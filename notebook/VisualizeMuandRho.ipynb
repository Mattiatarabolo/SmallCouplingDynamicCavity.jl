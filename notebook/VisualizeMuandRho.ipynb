{
 "cells": [
  {
   "cell_type": "code",
   "execution_count": 1,
   "id": "3b8dc1c6",
   "metadata": {
    "scrolled": true
   },
   "outputs": [
    {
     "name": "stderr",
     "output_type": "stream",
     "text": [
      "\u001b[32m\u001b[1m  Activating\u001b[22m\u001b[39m project at `~/julia_codes/SmallCouplingDynamicCavity`\n"
     ]
    }
   ],
   "source": [
    "using Pkg\n",
    "Pkg.activate(\"/home/tara/julia_codes/SmallCouplingDynamicCavity/\")"
   ]
  },
  {
   "cell_type": "code",
   "execution_count": 2,
   "id": "athletic-conducting",
   "metadata": {
    "tags": []
   },
   "outputs": [
    {
     "name": "stderr",
     "output_type": "stream",
     "text": [
      "\u001b[36m\u001b[1m[ \u001b[22m\u001b[39m\u001b[36m\u001b[1mInfo: \u001b[22m\u001b[39mPrecompiling SmallCouplingDynamicCavity [1607259e-80f4-4675-b495-cb9c54bacb3f]\n",
      "\u001b[91m\u001b[1mERROR: \u001b[22m\u001b[39mLoadError: syntax: \"\\\" is not a unary operator\n",
      "Stacktrace:\n",
      " [1] top-level scope\n",
      "\u001b[90m   @ \u001b[39m\u001b[90m~/julia_codes/SmallCouplingDynamicCavity/src/\u001b[39m\u001b[90m\u001b[4mutils.jl:119\u001b[24m\u001b[39m\n",
      " [2] \u001b[0m\u001b[1minclude\u001b[22m\u001b[0m\u001b[1m(\u001b[22m\u001b[90mmod\u001b[39m::\u001b[0mModule, \u001b[90m_path\u001b[39m::\u001b[0mString\u001b[0m\u001b[1m)\u001b[22m\n",
      "\u001b[90m   @ \u001b[39m\u001b[90mBase\u001b[39m \u001b[90m./\u001b[39m\u001b[90m\u001b[4mBase.jl:419\u001b[24m\u001b[39m\n",
      " [3] \u001b[0m\u001b[1minclude\u001b[22m\u001b[0m\u001b[1m(\u001b[22m\u001b[90mx\u001b[39m::\u001b[0mString\u001b[0m\u001b[1m)\u001b[22m\n",
      "\u001b[90m   @ \u001b[39m\u001b[35mSmallCouplingDynamicCavity\u001b[39m \u001b[90m~/julia_codes/SmallCouplingDynamicCavity/src/\u001b[39m\u001b[90m\u001b[4mSmallCouplingDynamicCavity.jl:1\u001b[24m\u001b[39m\n",
      " [4] top-level scope\n",
      "\u001b[90m   @ \u001b[39m\u001b[90m~/julia_codes/SmallCouplingDynamicCavity/src/\u001b[39m\u001b[90m\u001b[4mSmallCouplingDynamicCavity.jl:8\u001b[24m\u001b[39m\n",
      " [5] \u001b[0m\u001b[1minclude\u001b[22m\n",
      "\u001b[90m   @ \u001b[39m\u001b[90m./\u001b[39m\u001b[90m\u001b[4mBase.jl:419\u001b[24m\u001b[39m\u001b[90m [inlined]\u001b[39m\n",
      " [6] \u001b[0m\u001b[1minclude_package_for_output\u001b[22m\u001b[0m\u001b[1m(\u001b[22m\u001b[90mpkg\u001b[39m::\u001b[0mBase.PkgId, \u001b[90minput\u001b[39m::\u001b[0mString, \u001b[90mdepot_path\u001b[39m::\u001b[0mVector\u001b[90m{String}\u001b[39m, \u001b[90mdl_load_path\u001b[39m::\u001b[0mVector\u001b[90m{String}\u001b[39m, \u001b[90mload_path\u001b[39m::\u001b[0mVector\u001b[90m{String}\u001b[39m, \u001b[90mconcrete_deps\u001b[39m::\u001b[0mVector\u001b[90m{Pair{Base.PkgId, UInt64}}\u001b[39m, \u001b[90msource\u001b[39m::\u001b[0mNothing\u001b[0m\u001b[1m)\u001b[22m\n",
      "\u001b[90m   @ \u001b[39m\u001b[90mBase\u001b[39m \u001b[90m./\u001b[39m\u001b[90m\u001b[4mloading.jl:1554\u001b[24m\u001b[39m\n",
      " [7] top-level scope\n",
      "\u001b[90m   @ \u001b[39m\u001b[90m\u001b[4mstdin:1\u001b[24m\u001b[39m\n",
      "in expression starting at /home/tara/julia_codes/SmallCouplingDynamicCavity/src/utils.jl:119\n",
      "in expression starting at /home/tara/julia_codes/SmallCouplingDynamicCavity/src/SmallCouplingDynamicCavity.jl:1\n",
      "in expression starting at stdin:1\n"
     ]
    },
    {
     "ename": "LoadError",
     "evalue": "Failed to precompile SmallCouplingDynamicCavity [1607259e-80f4-4675-b495-cb9c54bacb3f] to /home/tara/.julia/compiled/v1.8/SmallCouplingDynamicCavity/jl_ze7LFK.",
     "output_type": "error",
     "traceback": [
      "Failed to precompile SmallCouplingDynamicCavity [1607259e-80f4-4675-b495-cb9c54bacb3f] to /home/tara/.julia/compiled/v1.8/SmallCouplingDynamicCavity/jl_ze7LFK.",
      "",
      "Stacktrace:",
      " [1] error(s::String)",
      "   @ Base ./error.jl:35",
      " [2] compilecache(pkg::Base.PkgId, path::String, internal_stderr::IO, internal_stdout::IO, keep_loaded_modules::Bool)",
      "   @ Base ./loading.jl:1707",
      " [3] compilecache",
      "   @ ./loading.jl:1651 [inlined]",
      " [4] _require(pkg::Base.PkgId)",
      "   @ Base ./loading.jl:1337",
      " [5] _require_prelocked(uuidkey::Base.PkgId)",
      "   @ Base ./loading.jl:1200",
      " [6] macro expansion",
      "   @ ./loading.jl:1180 [inlined]",
      " [7] macro expansion",
      "   @ ./lock.jl:223 [inlined]",
      " [8] require(into::Module, mod::Symbol)",
      "   @ Base ./loading.jl:1144"
     ]
    }
   ],
   "source": [
    "using Plots, LaTeXStrings\n",
    "using Graphs, GraphRecipes\n",
    "using SmallCouplingDynamicCavity\n",
    "using SparseArrays\n",
    "using Random\n",
    "using JLD"
   ]
  },
  {
   "cell_type": "markdown",
   "id": "c14cca05",
   "metadata": {},
   "source": [
    "## $\\rho$ visualization"
   ]
  },
  {
   "cell_type": "markdown",
   "id": "a3a795da",
   "metadata": {},
   "source": [
    "### Data loading"
   ]
  },
  {
   "cell_type": "code",
   "execution_count": 23,
   "id": "36dc7632-468d-41c4-ae66-aab3dbea234a",
   "metadata": {},
   "outputs": [
    {
     "ename": "LoadError",
     "evalue": "UndefVarError: load not defined",
     "output_type": "error",
     "traceback": [
      "UndefVarError: load not defined",
      "",
      "Stacktrace:",
      " [1] top-level scope",
      "   @ In[23]:1"
     ]
    }
   ],
   "source": [
    "data = load(\"rho_supershort_tree.jld\")\n",
    "G = data[\"G\"]\n",
    "NV::Int = nv(G)\n",
    "config::Array{Float64, 2} = data[\"config\"]\n",
    "T::Int = data[\"T\"]\n",
    "λ₀::Float64 = data[\"lambda\"]\n",
    "γ::Float64 = 1/NV # Patient zero probability\n",
    "observed = data[\"observed\"]\n",
    "\n",
    "isource = findall(x->x==1.0,config[:,1])\n",
    "\n",
    "cols = [:blues for _ in 1:NV]\n",
    "cols[isource] .= :yellow\n",
    "\n",
    "display(graphplot(G,names=1:NV,edgecolor=:black,curves=false,markercolor=cols,nodeshape=:circle, markersize =.2))\n",
    "\n",
    "# infected individuals over time\n",
    "nrI = dropdims(sum(map(x->Float64(x==1.0),config), dims = 1), dims = 1)\n",
    "nrS = dropdims(sum(map(x->Float64(x==0.0),config), dims = 1), dims = 1)\n",
    "#nrR = dropdims(sum(map(x->Float64(x==2.0),config), dims = 1), dims = 1)\n",
    "display(plot([nrS nrI], xlabel = \"Days\", ylabel = \"\", label = [\"S\" \"I\"]))\n",
    "\n",
    "# display epidemy\n",
    "display(heatmap(config,title=\"Infected\",xlabel=\"time\",ylabel=\"population\")) "
   ]
  },
  {
   "cell_type": "markdown",
   "id": "b0e6f3af",
   "metadata": {},
   "source": [
    "### Inference SCDC-- autoinfection, $\\mu$ cutoff"
   ]
  },
  {
   "cell_type": "code",
   "execution_count": 24,
   "id": "8bd00e6c",
   "metadata": {},
   "outputs": [
    {
     "ename": "LoadError",
     "evalue": "UndefVarError: NV not defined",
     "output_type": "error",
     "traceback": [
      "UndefVarError: NV not defined",
      "",
      "Stacktrace:",
      " [1] top-level scope",
      "   @ In[24]:18"
     ]
    }
   ],
   "source": [
    "# computational constants\n",
    "const epsconv::Float64 = 5e-15 # convergence threshold\n",
    "const maxiter::Int = 5e2 # max number of iterations\n",
    "damp::Float64 = 0.0 # damping factor\n",
    "μ_cutoff::Float64 = -Inf\n",
    "ε_autoinf::Float64 = 0.0\n",
    "\n",
    "# define the observation probability\n",
    "function obsprob(Ob::Float64, x::Float64)\n",
    "    if Ob == -1.0\n",
    "        return 1.0\n",
    "    else\n",
    "        return Float64(Ob == x)\n",
    "    end\n",
    "end\n",
    "\n",
    "# constant infection probability\n",
    "λ = zeros(NV, NV, T+1)\n",
    "for e in edges(G)\n",
    "    λ[src(e), dst(e), :] = ones(T+1) * λ₀\n",
    "    λ[dst(e), src(e), :] = ones(T+1) * λ₀\n",
    "end\n",
    "\n",
    "# callback function\n",
    "function report(nodes,iter,ε) \n",
    "    println(\"i = \", iter,  \" ε = \", ε)\n",
    "end"
   ]
  },
  {
   "cell_type": "code",
   "execution_count": 25,
   "id": "fbd02761-9851-4c0f-9143-b65f8654f449",
   "metadata": {},
   "outputs": [
    {
     "ename": "LoadError",
     "evalue": "UndefVarError: cgrad not defined",
     "output_type": "error",
     "traceback": [
      "UndefVarError: cgrad not defined",
      "",
      "Stacktrace:",
      " [1] top-level scope",
      "   @ In[25]:2"
     ]
    }
   ],
   "source": [
    "mark = [:circle, :square, :star, :utriangle, :diamond, :cross]\n",
    "g = cgrad(:inferno)\n",
    "col = [g[1], g[100], g[160], g[190], g[210], g[240]]\n",
    "\n",
    "path = [1, 4, 9, 19]\n",
    "\n",
    "\n",
    "######## Susceptible ##############\n",
    "t_obs = 8 #ceil(Int,T/2)+\n",
    "\n",
    "# generate observations\n",
    "obsmat = ones(NV, T+1) * (-1.0)\n",
    "obslist = []\n",
    "for iₗ in observed\n",
    "    obsmat[iₗ, t_obs+1] = config[iₗ, t_obs+1]\n",
    "    push!(obslist, (iₗ, ceil(Int,t_obs)))\n",
    "end\n",
    "println(obslist)\n",
    "\n",
    "nodes = run_SCDC(G, λ, obsmat, obsprob, γ, T, maxiter, epsconv, damp, :SI, callback = report, μ_cutoff = μ_cutoff, ε_autoinf = ε_autoinf);\n",
    "\n",
    "index = 1\n",
    "i = path[1]\n",
    "j = path[2]\n",
    "p1 = plot(0:T, nodes[j].ρs[nodes[j].∂_idx[i]].bwm[2,:], label=L\"%$i \\rightarrow %$j\", color=col[index], width=2, markers=mark[index])\n",
    "for i in path[2:end-1]\n",
    "    index += 1\n",
    "    j = path[index+1]\n",
    "    plot!(p1, 0:T, nodes[j].ρs[nodes[j].∂_idx[i]].bwm[2,:], label=L\"%$i \\rightarrow %$j\", color=col[index], width=2, markers=mark[index])\n",
    "end\n",
    "plot!(p1, guidefontsize=14, ylabel=L\"\\rho_{t\\leftarrow}^{i\\setminus j}(x_i^t=I)\", xtickfontsize=10, ytickfontsize=10, yformatter = :plain, xlabel=L\"t\")\n",
    "\n",
    "\n",
    "\n",
    "######### Infected ###################\n",
    "t_obs = 12 #ceil(Int,T/2)+\n",
    "\n",
    "# generate observations\n",
    "obsmat = ones(NV, T+1) * (-1.0)\n",
    "obslist = []\n",
    "for iₗ in observed\n",
    "    obsmat[iₗ, t_obs+1] = config[iₗ, t_obs+1]\n",
    "    push!(obslist, (iₗ, ceil(Int,t_obs)))\n",
    "end\n",
    "println(obslist)\n",
    "\n",
    "nodes = run_SCDC(G, λ, obsmat, obsprob, γ, T, maxiter, epsconv, damp, :SI, callback = report, μ_cutoff = μ_cutoff, ε_autoinf = ε_autoinf);\n",
    "\n",
    "index = 1\n",
    "i = path[1]\n",
    "j = path[2]\n",
    "p2 = plot(0:T, nodes[j].ρs[nodes[j].∂_idx[i]].bwm[2,:], label=L\"%$i \\rightarrow %$j\", color=col[index], width=2, markers=mark[index])\n",
    "for i in path[2:end-1]\n",
    "    index += 1\n",
    "    j = path[index+1]\n",
    "    plot!(p2, 0:T, nodes[j].ρs[nodes[j].∂_idx[i]].bwm[2,:], label=L\"%$i \\rightarrow %$j\", color=col[index], width=2, markers=mark[index])\n",
    "end\n",
    "plot!(p2, guidefontsize=14, xtickfontsize=10, ytickfontsize=10, yformatter = :plain, xlabel=L\"t\")\n",
    "\n",
    "\n",
    "########### final plot #####################\n",
    "cols = [:blues for _=1:NV]\n",
    "cols[observed] .= :red\n",
    "pgraph = graphplot(G, markercolor=cols, names=1:NV, markersize = 0.20, edgecolor=:black, curves=false, nodeshape=:circle, label = \"\", size=(400,400))\n",
    "\n",
    "ptot = plot(pgraph, p1, p2, layout = (1, 3), legend = true, legendfontsize=10, size = (900, 250), margin=0Plots.mm, bottommargin=7Plots.mm, axis_buffer=0.001)\n",
    "display(ptot)\n",
    "\n",
    "#savefig(ptot, \"rhos_backward_900x250.pdf\")"
   ]
  },
  {
   "cell_type": "markdown",
   "id": "0dd887ae-6ddb-4cad-8eb3-a16ecfcd2030",
   "metadata": {
    "tags": []
   },
   "source": [
    "## $\\mu$ visualization"
   ]
  },
  {
   "cell_type": "code",
   "execution_count": 26,
   "id": "5a147e0c-2a11-4701-aa8c-df8afe1be523",
   "metadata": {},
   "outputs": [
    {
     "ename": "LoadError",
     "evalue": "UndefVarError: bethe_lattice not defined",
     "output_type": "error",
     "traceback": [
      "UndefVarError: bethe_lattice not defined",
      "",
      "Stacktrace:",
      " [1] top-level scope",
      "   @ In[26]:4"
     ]
    }
   ],
   "source": [
    "k = 3 # number of graph vertices\n",
    "tmax = 5\n",
    "\n",
    "V,E = bethe_lattice(k,tmax,true) ; NV= length(V)\n",
    "G = SimpleGraph(Edge.([(x[1],x[2]) for x in E]))\n",
    "\n",
    "# in this cell I create some random links to introduce some loops on the graph G which is a Tree\n",
    "for st = 1:NV*.1\n",
    "    i = rand(1:NV)\n",
    "    i == NV && continue\n",
    "    j = rand(i+1:NV)\n",
    "    add_edge!(G,i,j)\n",
    "    add_edge!(G,j,i) \n",
    "end"
   ]
  },
  {
   "cell_type": "markdown",
   "id": "46f0676f-618e-417b-a4a4-7deb5e3772ee",
   "metadata": {},
   "source": [
    "### System parameter definition and simulation"
   ]
  },
  {
   "cell_type": "code",
   "execution_count": 27,
   "id": "dbb18434-dfab-440e-8003-10d9b9f1b680",
   "metadata": {},
   "outputs": [
    {
     "ename": "LoadError",
     "evalue": "UndefVarError: NV not defined",
     "output_type": "error",
     "traceback": [
      "UndefVarError: NV not defined",
      "",
      "Stacktrace:",
      " [1] top-level scope",
      "   @ In[27]:3"
     ]
    }
   ],
   "source": [
    "# define the constants\n",
    "T::Int = 30 # total time\n",
    "γ::Float64 = 1/NV # Patient zero probability\n",
    "λ₀::Float64 = 0.1 # Infection rate\n",
    "\n",
    "# define the observation probability\n",
    "function obsprob(Ob::Float64, x::Float64)\n",
    "    if Ob == -1.0\n",
    "        return 1.0\n",
    "    else\n",
    "        return Float64(Ob == x)\n",
    "    end\n",
    "end\n",
    "\n",
    "# constant infection probability\n",
    "λ = zeros(NV, NV, T+1)\n",
    "for e in edges(G)\n",
    "    λ[src(e), dst(e), :] = ones(T+1) * λ₀\n",
    "    λ[dst(e), src(e), :] = ones(T+1) * λ₀\n",
    "end\n",
    "\n",
    "# epidemic simulation\n",
    "config = sim_epidemics(G, log.(1 .- λ), T, :SI, γ=γ)\n",
    "#display(perm_sort)\n",
    "#display(config)\n",
    "#display(config[perm_sort,:])\n",
    "\n",
    "isource = findall(x->x==1.0, config[:,1])\n",
    "\n",
    "cols = [:blues for _ in 1:NV]\n",
    "cols[isource] .= :yellow\n",
    "\n",
    "#Random.seed!(1998)\n",
    "display(graphplot(G, names=1:NV, edgecolor=:black,curves=false,markercolor=cols,nodeshape=:circle, markersize =.12, size=(500,500)))\n",
    "\n",
    "# infected individuals over time\n",
    "nrI = dropdims(sum(map(x->Float64(x==1.0),config), dims = 1), dims = 1)\n",
    "nrS = dropdims(sum(map(x->Float64(x==0.0),config), dims = 1), dims = 1)\n",
    "#nrR = dropdims(sum(map(x->Float64(x==2.0),config), dims = 1), dims = 1)\n",
    "display(plot([nrS nrI], xlabel = \"Days\", ylabel = \"\", label = [\"S\" \"I\"]))\n",
    "\n",
    "# display epidemy\n",
    "display(heatmap(config,title=\"Infected\",xlabel=\"time\",ylabel=\"population\")) "
   ]
  },
  {
   "cell_type": "markdown",
   "id": "7f06d609-3bc2-438c-a7dd-2c045c12178b",
   "metadata": {},
   "source": [
    "### Generation of observations"
   ]
  },
  {
   "cell_type": "code",
   "execution_count": null,
   "id": "b0964b19-2b3f-4a88-9acb-27cd66f01dbc",
   "metadata": {},
   "outputs": [],
   "source": [
    "t_obs = 25\n",
    "\n",
    "println(config[1,t_obs+1])\n",
    "println(config[5,t_obs+1])"
   ]
  },
  {
   "cell_type": "code",
   "execution_count": 29,
   "id": "dec224bc",
   "metadata": {},
   "outputs": [],
   "source": [
    "#using JLD\n",
    "#save(\"mus_graph.jld\", \"G\", G, \"config\", config)"
   ]
  },
  {
   "cell_type": "markdown",
   "id": "c7a69578-ad4f-416f-8f68-665780974a5f",
   "metadata": {},
   "source": [
    "### Inference SCDC-- autoinfection, $\\mu$ cutoff"
   ]
  },
  {
   "cell_type": "code",
   "execution_count": 30,
   "id": "2985b258-33e0-4bc5-9baa-2b88098f4657",
   "metadata": {
    "tags": []
   },
   "outputs": [
    {
     "ename": "LoadError",
     "evalue": "cannot declare damp constant; it already has a value",
     "output_type": "error",
     "traceback": [
      "cannot declare damp constant; it already has a value",
      "",
      "Stacktrace:",
      " [1] top-level scope",
      "   @ In[30]:4"
     ]
    }
   ],
   "source": [
    "# computational constants\n",
    "const epsconv::Float64 = 5e-15 # convergence threshold\n",
    "const maxiter::Int = 5e2 # max number of iterations\n",
    "const damp::Float64 = 0.0 # damping factor\n",
    "const μ_cutoff::Float64 = -Inf\n",
    "const ε_autoinf::Float64 = 0.0\n",
    "\n",
    "# callback function\n",
    "function report(nodes,iter,ε) \n",
    "    println(\"i = \", iter,  \" ε = \", ε)\n",
    "end"
   ]
  },
  {
   "cell_type": "code",
   "execution_count": 31,
   "id": "df893b3d",
   "metadata": {},
   "outputs": [
    {
     "ename": "LoadError",
     "evalue": "UndefVarError: NV not defined",
     "output_type": "error",
     "traceback": [
      "UndefVarError: NV not defined",
      "",
      "Stacktrace:",
      " [1] top-level scope",
      "   @ In[31]:5"
     ]
    }
   ],
   "source": [
    "####### 1 ob #############\n",
    "observed1 = [1]\n",
    "\n",
    "# generate observations\n",
    "obsmat = ones(NV, T+1) * (-1.0)\n",
    "obslist = []\n",
    "for iₗ in observed1\n",
    "    obsmat[iₗ, t_obs+1] = config[iₗ, t_obs+1]\n",
    "    push!(obslist, (iₗ, ceil(Int,t_obs)))\n",
    "end\n",
    "println(obslist)\n",
    "\n",
    "nodes1 = run_SCDC(G, λ, obsmat, obsprob, γ, T, maxiter, epsconv, damp, :SI, μ_cutoff = μ_cutoff, ε_autoinf = ε_autoinf)\n",
    "\n",
    "\n",
    "\n",
    "######### 2 obs #############\n",
    "observed2 = [1, 5]\n",
    "\n",
    "# generate observations\n",
    "obsmat = ones(NV, T+1) * (-1.0)\n",
    "obslist = []\n",
    "for iₗ in observed2\n",
    "    obsmat[iₗ, t_obs+1] = config[iₗ, t_obs+1]\n",
    "    push!(obslist, (iₗ, ceil(Int,t_obs)))\n",
    "end\n",
    "println(obslist)\n",
    "\n",
    "nodes2 = run_SCDC(G, λ, obsmat, obsprob, γ, T, maxiter, epsconv, damp, :SI, μ_cutoff = μ_cutoff, ε_autoinf = ε_autoinf)"
   ]
  },
  {
   "cell_type": "code",
   "execution_count": 32,
   "id": "23f06291",
   "metadata": {},
   "outputs": [],
   "source": [
    "function norm_μ(i::Int,j::Int,nodes::Vector)\n",
    "    iindex = nodes[j].∂_idx[i]  #calculate the norm of μ at node i for the j_th coNVection\n",
    "    sqrt(sum((nodes[j].cavities[iindex].μ[t_obs-4]) .^ 2))\n",
    "end"
   ]
  },
  {
   "cell_type": "code",
   "execution_count": 33,
   "id": "932ad274-73bd-4dd7-a8eb-f0bd7924ac7f",
   "metadata": {
    "scrolled": false
   },
   "outputs": [],
   "source": [
    "using Random\n",
    "\n",
    "spess = [5, 5, 10, 10, 10, 10, 60]\n",
    "\n",
    "######## 1 obs ##############\n",
    "μ = zeros(NV,NV)\n",
    "for e in edges(G)\n",
    "    i = src(e)\n",
    "    j = dst(e)\n",
    "    μ[i,j] += norm_μ(i,j,nodes1)\n",
    "#    μ[j,i] += norm_μ(j,i,nodes)\n",
    "end\n",
    "μ .+= μ'\n",
    "\n",
    "cols = [config[i,end]==1.0 ? :blues : :green for i=1:NV]\n",
    "cols[isource] .= :yellow\n",
    "cols[observed1] .= :red\n",
    "μs = spess[length(observed)] * sparse((μ) ./ maximum(μ)) #qui ci metto lo spessore\n",
    "Random.seed!(1998)\n",
    "p1 = graphplot(G; edgewidth=(s,d,w) -> μs[s,d], names=1:NV, markercolor=cols, markersize = 0.18, edgecolor=:black, curves=false, nodeshape=:circle, axisbuffer=0.05)\n",
    "\n",
    "\n",
    "\n",
    "######## 2 obs ##############\n",
    "μ = zeros(NV,NV)\n",
    "for e in edges(G)\n",
    "    i = src(e)\n",
    "    j = dst(e)\n",
    "    μ[i,j] += norm_μ(i,j,nodes2)\n",
    "#    μ[j,i] += norm_μ(j,i,nodes)\n",
    "end\n",
    "μ .+= μ'\n",
    "\n",
    "\n",
    "cols = [config[i,end]==1.0 ? :blues : :green for i=1:NV]\n",
    "cols[isource] .= :yellow\n",
    "cols[observed2] .= :red\n",
    "μs = spess[length(observed)] * sparse((μ))# ./ maximum(μ)) #qui ci metto lo spessore\n",
    "Random.seed!(1998)\n",
    "p2 = graphplot(G; edgewidth=(s,d,w) -> μs[s,d], names=1:NV, markercolor=cols, markersize = 0.18, edgecolor=:black, curves=false, nodeshape=:circle, axisbuffer=0.05)\n",
    "\n",
    "########### final plot #####################\n",
    "ptot = plot(p1, p2, layout = (1, 2), size = (900, 350), margin=0Plots.mm)\n",
    "display(ptot)\n",
    "\n",
    "#savefig(ptot, \"mus_900x350.pdf\")"
   ]
  },
  {
   "cell_type": "code",
   "execution_count": 34,
   "id": "a5aa1646",
   "metadata": {
    "scrolled": false
   },
   "outputs": [],
   "source": [
    "display(plot([1:T+1 1:T+1], [nodes1[8].marg.m[2,:] nodes2[8].marg.m[2,:]], label=[\"1\" \"2\"], ylim=(0,1)))\n",
    "#display(plot(nodes1[18].marg.m[2,:], ylim=(0,1)))\n",
    "#display(plot(nodes1[37].marg.m[2,:], ylim=(0,1)))\n",
    "\n",
    "#display(plot(nodes2[8].marg.m[2,:], ylim=(0,1)))\n",
    "#display(plot(nodes2[18].marg.m[2,:], ylim=(0,1)))\n",
    "#display(plot(nodes2[37].marg.m[2,:], ylim=(0,1)))"
   ]
  },
  {
   "cell_type": "code",
   "execution_count": 35,
   "id": "1d891fb0",
   "metadata": {},
   "outputs": [],
   "source": [
    "function sort_by_infection_time(X, T, NV)\n",
    "    inf_tuples = Dict()\n",
    "    first_time_inf = ones(Int, NV).*(T+1)\n",
    "    for i=1:NV\n",
    "        t1 = 0\n",
    "        t2 = 0\n",
    "        inf = false\n",
    "        for t=0:T\n",
    "            if X[i,t+1]==1.0 && !inf\n",
    "                t1 = t\n",
    "                inf = true\n",
    "            elseif X[i,t+1]==2.0 && inf\n",
    "                t2 = t\n",
    "                if !haskey(inf_tuples, i)\n",
    "                    merge!(inf_tuples, Dict(i=>[(t1,t2)]))\n",
    "                    first_time_inf[i] = t1\n",
    "                else\n",
    "                    push!(inf_tuples[i],(t1,t2))\n",
    "                end\n",
    "                inf = false\n",
    "            else\n",
    "                continue\n",
    "            end\n",
    "        end\n",
    "        if inf\n",
    "            if !haskey(inf_tuples, i)\n",
    "                merge!(inf_tuples, Dict(i=>[(t1,T)]))\n",
    "                first_time_inf[i] = t1\n",
    "            else\n",
    "                push!(inf_tuples[i],(t1,T))\n",
    "            end\n",
    "        end\n",
    "    end\n",
    "    #display(first_time_inf)\n",
    "    perm = sortperm(first_time_inf)\n",
    "    \n",
    "    return inf_tuples, invperm(perm), perm\n",
    "end\n",
    "\n",
    "pgfplotsx()\n",
    "\n",
    "cols = [:white, :red, :black]\n",
    "resize_factor = 1.0\n",
    "cg = cgrad([:dodgerblue, :yellow], 0.6)\n",
    "\n",
    "\n",
    "\n",
    "plI_SCDC = heatmap(1:NV, 0:T, marg_prob[:,:,2]', c=cg, xlabel=L\"i\", ylabel=L\"t\", colorbar_title=L\"p(x_i^t=I)\", yrange=(0,T), xticks=1:5:NV, framestyle = :box)#, title = \"Infected\")\n",
    "\n",
    "for (i, inf_time_list) in inf_tuples\n",
    "    for inf_time in inf_time_list\n",
    "        plot!(plI_SCDC, [invperm_sort[i],invperm_sort[i]], [inf_time[1]-0.1,inf_time[2]+0.1], c=:black, label=\"\", lw=1)\n",
    "    end\n",
    "end\n",
    "\n",
    "for (i,t) in obslist\n",
    "    scatter!(plI_SCDC, [invperm_sort[i]], [t], ms=2, msc=:black, c=cols[ceil(Int,config[i,t+1])+1], label=\"\")\n",
    "end\n",
    "\n",
    "#println(\"Observations at times: \", obs_times)\n",
    "plot!(plI_SCDC, yticks=0:(T÷5):T, widen=false, margin=3Plots.mm, size=(900,250).*resize_factor)"
   ]
  }
 ],
 "metadata": {
  "kernelspec": {
   "display_name": "Julia 1.8.3",
   "language": "julia",
   "name": "julia-1.8"
  },
  "language_info": {
   "file_extension": ".jl",
   "mimetype": "application/julia",
   "name": "julia",
   "version": "1.8.3"
  }
 },
 "nbformat": 4,
 "nbformat_minor": 5
}
