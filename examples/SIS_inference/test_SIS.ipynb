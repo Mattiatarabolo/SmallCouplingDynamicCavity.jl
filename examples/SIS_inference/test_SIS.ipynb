{
 "cells": [
  {
   "cell_type": "code",
   "execution_count": 5,
   "id": "8abda25d-b776-44d7-9bbb-66620ee8d036",
   "metadata": {},
   "outputs": [
    {
     "name": "stderr",
     "output_type": "stream",
     "text": [
      "\u001b[32m\u001b[1m  Activating\u001b[22m\u001b[39m project at `~/SCDC/testSI(S)`\n"
     ]
    }
   ],
   "source": [
    "using Pkg\n",
    "Pkg.activate(\".\")"
   ]
  },
  {
   "cell_type": "code",
   "execution_count": 6,
   "id": "b462b21d-11a2-4c59-b9c2-baadff8cd543",
   "metadata": {},
   "outputs": [],
   "source": [
    "using Graphs\n",
    "using JLD2, CSV, DataFrames, NPZ\n",
    "using StatsBase\n",
    "using SmallCouplingDynamicCavity\n",
    "using PyCall\n",
    "using Random\n",
    "import PyPlot as plt\n",
    "using Statistics\n",
    "using LaTeXStrings"
   ]
  },
  {
   "cell_type": "code",
   "execution_count": 7,
   "id": "a35f260d-34b8-4fca-9e28-c2b5d7e3cfb3",
   "metadata": {},
   "outputs": [
    {
     "data": {
      "text/plain": [
       "meshgrid_lin (generic function with 1 method)"
      ]
     },
     "execution_count": 7,
     "metadata": {},
     "output_type": "execute_result"
    }
   ],
   "source": [
    "# Define the saving structure, in which the results will be saved\n",
    "struct SaveStruct\n",
    "    s::Int\n",
    "    ε_autoinf::Float64\n",
    "    maxiter::Union{Int,Array{Int}}\n",
    "    damp::Union{Float64,Array{Float64}}\n",
    "    μ_cutoff::Float64\n",
    "    fpn::Float64\n",
    "    n_iter_nc::Int\n",
    "    damp_nc::Float64\n",
    "    fMAP_true::Float64\n",
    "\n",
    "    SaveStruct(s) = new(s, 0.0, 0, 0.0, 0.0, 0.0, 0, 0.0, 0.0)\n",
    "    SaveStruct(s, ε_autoinf, maxiter, damp, μ_cutoff, fpn, n_iter_nc, damp_nc, fMAP_true) = new(s, ε_autoinf, maxiter, damp, μ_cutoff, fpn, n_iter_nc, damp_nc, fMAP_true)\n",
    "end\n",
    "\n",
    "to_rgba(col, alpha) = plt.matplotlib.colors.to_rgba(col, alpha)\n",
    "\n",
    "function meshgrid_lin(x, y, dx, dy)\n",
    "    nx = length(x)+1\n",
    "    ny = length(y)+1\n",
    "    X = zeros(ny,nx)\n",
    "    Y = zeros(ny,nx)\n",
    "    for j in 1:nx-1\n",
    "        X[:,j] .= x[j]-dx/2\n",
    "    end\n",
    "    X[:,nx] .= x[nx-1]+dx/2\n",
    "    \n",
    "    for i in 1:ny-1\n",
    "        Y[i,:] .= y[i]-dy/2\n",
    "    end\n",
    "    Y[ny,:] .= y[ny-1]+dy/2\n",
    "    return X, Y\n",
    "end"
   ]
  },
  {
   "cell_type": "markdown",
   "id": "645de299-4ef7-41ef-8893-1a460f126ef6",
   "metadata": {},
   "source": [
    "# Varying lambda, sigma"
   ]
  },
  {
   "cell_type": "markdown",
   "id": "a79bbf12-e943-4b3d-b024-4fd83bbe3eb2",
   "metadata": {},
   "source": [
    "## Proximity random graphs"
   ]
  },
  {
   "cell_type": "code",
   "execution_count": 8,
   "id": "1be71eb6-b132-4925-8a2e-910e1df32af2",
   "metadata": {},
   "outputs": [
    {
     "data": {
      "image/png": "[encoded data removed]",
      "text/plain": [
       "PyPlot.Figure(PyObject <Figure size 340x200 with 2 Axes>)"
      ]
     },
     "metadata": {},
     "output_type": "display_data"
    }
   ],
   "source": [
    "n_sample = 30\n",
    "sims = collect(1:n_sample)\n",
    "\n",
    "# Parameters\n",
    "T = 15\n",
    "NV = 300\n",
    "lmax = round(sqrt(1.8/NV), digits=3)\n",
    "n_sr = 2\n",
    "γ = n_sr/NV\n",
    "λs = round.(collect(range(0.1, 0.9, length=20)), digits=3)\n",
    "σs = round.(10 .^ (collect(range(log10(0.01), log10(0.9), length=20))), digits=3)\n",
    "λ_σs = collect(Iterators.product(λs, σs))\n",
    "nobs = floor(Int, .6*NV)\n",
    "\n",
    "tobs = floor(Int, T/2)\n",
    "\n",
    "\n",
    "############### SCDC #############################\n",
    "fMAP_trues_m = zeros(length(λs), length(σs))\n",
    "\n",
    "for (idx, (λ₀,σ₀)) in enumerate(λ_σs)\n",
    "    save_vec = JLD2.load_object(\"logs/test_SIS/var_lambda_sigma/N-$(NV)_lmax-$(lmax)_tlim-$(T)_nsrc-$(n_sr)_nobs-$(nobs)/lam_$(λ₀)_sigma_$(σ₀)/optim_pars_rand_geom.jld2\")\n",
    "    fMAP_trues = [save_struct.fMAP_true for save_struct in save_vec]\n",
    "    \n",
    "    filter!(x->x ≠ 0.0, fMAP_trues)\n",
    "    \n",
    "    fMAP_trues_m[idx] = mean(fMAP_trues)\n",
    "end\n",
    "##################################################\n",
    "\n",
    "\n",
    "\n",
    "################## Plot fMAP_true  ####################\n",
    "fig, ax = plt.subplots(figsize=(3.4, 2))\n",
    "rcParams = PyDict(plt.matplotlib[\"rcParams\"])\n",
    "rcParams[\"font.size\"] = 8  #9 18\n",
    "\n",
    "# Custom color gradient\n",
    "color1 = \"dodgerblue\"  # Starting color\n",
    "color2 = \"yellow\"      # Ending color\n",
    "# Create a colormap using LinearSegmentedColormap\n",
    "cm = plt.matplotlib.colors.LinearSegmentedColormap.from_list(\"custom_cmap\", [color1, color2])\n",
    "\n",
    "## Heatmap ##\n",
    "# Define axes\n",
    "y_edges = λs  # Edges for x-axis (0.5 to NV + 0.5)\n",
    "dy = y_edges[2] - y_edges[1]\n",
    "x_edges_exp = collect(range(log10(0.01), log10(0.9), length=20)) # Edges for y-axis (0 to T)\n",
    "dx = x_edges_exp[2] - x_edges_exp[1]\n",
    "# Create X, Y coordinate matrices\n",
    "X, Y = meshgrid_lin(x_edges_exp, y_edges, dx, dy)\n",
    "# Plot heatmap\n",
    "p = ax.pcolor(10 .^ X, Y, fMAP_trues_m, cmap=cm, vmin=minimum(fMAP_trues_m),  vmax=1, edgecolors=\"none\", shading=\"flat\")\n",
    "ax.set_ylabel(L\"$\\lambda$\") \n",
    "ax.set_xlabel(L\"$\\sigma$\")\n",
    "ax.set_ylim(y_edges[1]-dy/2, y_edges[end]+dy/2)\n",
    "ax.set_yticks(.1:.2:.9)\n",
    "ax.set_xlim(10 .^ (x_edges_exp[1]-dx/2), 10 .^ (x_edges_exp[end]+dx/2))\n",
    "ax.set_xscale(\"log\")\n",
    "\n",
    "#ax.set_yscale(\"log\")\n",
    "####################################################\n",
    "\n",
    "# Add colorbars with adjusted width and position\n",
    "cbar = fig.colorbar(p, ax=ax, orientation=\"vertical\", fraction=0.1, pad=.02, aspect=10, drawedges=false)\n",
    "cbar.set_label(\"Fraction of correct\\n MAP predictions\")\n",
    "\n",
    "fig.savefig(\"SIS_heatmap_inference.png\", format=\"png\", bbox_inches=\"tight\", dpi=2000)"
   ]
  }
 ],
 "metadata": {
  "kernelspec": {
   "display_name": "Julia 1.9.3",
   "language": "julia",
   "name": "julia-1.9"
  },
  "language_info": {
   "file_extension": ".jl",
   "mimetype": "application/julia",
   "name": "julia",
   "version": "1.9.3"
  }
 },
 "nbformat": 4,
 "nbformat_minor": 5
}
