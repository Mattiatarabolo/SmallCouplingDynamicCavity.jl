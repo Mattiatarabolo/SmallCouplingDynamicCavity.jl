{
 "cells": [
  {
   "cell_type": "code",
   "execution_count": 16,
   "id": "9751f24b-7601-42e5-9d92-5ef44e930186",
   "metadata": {
    "tags": []
   },
   "outputs": [
    {
     "name": "stderr",
     "output_type": "stream",
     "text": [
      "\u001b[32m\u001b[1m  Activating\u001b[22m\u001b[39m project at `~/Desktop/julia_codes/SmallCouplingDynamicCavity.jl/examples/SI_inference`\n",
      "\u001b[32m\u001b[1m   Resolving\u001b[22m\u001b[39m package versions...\n",
      "\u001b[32m\u001b[1m  No Changes\u001b[22m\u001b[39m to `~/Desktop/julia_codes/SmallCouplingDynamicCavity.jl/examples/SI_inference/Project.toml`\n",
      "\u001b[32m\u001b[1m  No Changes\u001b[22m\u001b[39m to `~/Desktop/julia_codes/SmallCouplingDynamicCavity.jl/examples/SI_inference/Manifest.toml`\n",
      "\u001b[32m\u001b[1m    Updating\u001b[22m\u001b[39m git-repo `https://github.com/Mattiatarabolo/SmallCouplingDynamicCavity.jl`\n",
      "\u001b[32m\u001b[1m   Resolving\u001b[22m\u001b[39m package versions...\n",
      "\u001b[32m\u001b[1m    Updating\u001b[22m\u001b[39m `~/Desktop/julia_codes/SmallCouplingDynamicCavity.jl/examples/SI_inference/Project.toml`\n",
      "  \u001b[90m[1607259e] \u001b[39m\u001b[92m+ SmallCouplingDynamicCavity v4.0.2 `https://github.com/Mattiatarabolo/SmallCouplingDynamicCavity.jl#main`\u001b[39m\n",
      "\u001b[32m\u001b[1m    Updating\u001b[22m\u001b[39m `~/Desktop/julia_codes/SmallCouplingDynamicCavity.jl/examples/SI_inference/Manifest.toml`\n",
      "  \u001b[90m[1607259e] \u001b[39m\u001b[92m+ SmallCouplingDynamicCavity v4.0.2 `https://github.com/Mattiatarabolo/SmallCouplingDynamicCavity.jl#main`\u001b[39m\n"
     ]
    },
    {
     "name": "stdout",
     "output_type": "stream",
     "text": [
      "\u001b[32m\u001b[1mStatus\u001b[22m\u001b[39m `~/Desktop/julia_codes/SmallCouplingDynamicCavity.jl/examples/SI_inference/Project.toml`\n",
      "  \u001b[90m[336ed68f] \u001b[39mCSV v0.10.15\n",
      "  \u001b[90m[a93c6f00] \u001b[39mDataFrames v1.7.0\n",
      "  \u001b[90m[86223c79] \u001b[39mGraphs v1.12.0\n",
      "  \u001b[90m[033835bb] \u001b[39mJLD2 v0.5.11\n",
      "  \u001b[90m[b964fa9f] \u001b[39mLaTeXStrings v1.4.0\n",
      "  \u001b[90m[15e1cf62] \u001b[39mNPZ v0.4.3\n",
      "  \u001b[90m[438e738f] \u001b[39mPyCall v1.96.4\n",
      "  \u001b[90m[d330b81b] \u001b[39mPyPlot v2.11.5\n",
      "  \u001b[90m[1607259e] \u001b[39mSmallCouplingDynamicCavity v4.0.2 `https://github.com/Mattiatarabolo/SmallCouplingDynamicCavity.jl#main`\n",
      "  \u001b[90m[f3b207a7] \u001b[39mStatsPlots v0.15.7\n",
      "  \u001b[90m[2f01184e] \u001b[39mSparseArrays v1.10.0\n",
      "  \u001b[90m[10745b16] \u001b[39mStatistics v1.10.0\n"
     ]
    }
   ],
   "source": [
    "using Pkg\n",
    "Pkg.activate(\".\")\n",
    "#pkg\"add JLD2, CSV, DataFrames, PyPlot, PyCall, Statistics, LaTeXStrings, Graphs, NPZ\"\n",
    "#pkg\"add https://github.com/Mattiatarabolo/SmallCouplingDynamicCavity.jl\"\n",
    "#Pkg.update()\n",
    "Pkg.status()\n",
    "\n",
    "using JLD2, CSV, DataFrames\n",
    "using PyPlot, PyCall\n",
    "using Statistics#, StatsPlots\n",
    "using LaTeXStrings"
   ]
  },
  {
   "cell_type": "code",
   "execution_count": 18,
   "id": "3a9694f6-38ef-4275-94f4-dd15dd905366",
   "metadata": {},
   "outputs": [],
   "source": [
    "# Function to calculate standard error of the mean\n",
    "sem(x) = std(x) / sqrt(length(x))\n",
    "\n",
    "# Function to calculate the standard error the median\n",
    "semedian(x) = sem(x) * 1.2533\n",
    "\n",
    "include(\"optim_pars.jl\");"
   ]
  },
  {
   "cell_type": "markdown",
   "id": "86a380b5-f0fc-4c62-b5bc-e54dab077094",
   "metadata": {
    "tags": []
   },
   "source": [
    "## Proximity"
   ]
  },
  {
   "cell_type": "code",
   "execution_count": 20,
   "id": "092a8778-0554-4f3d-87a8-b0ae09f865ec",
   "metadata": {
    "tags": []
   },
   "outputs": [
    {
     "data": {
      "text/plain": [
       "\"data/plot_data/rnd_geom.csv\""
      ]
     },
     "metadata": {},
     "output_type": "display_data"
    }
   ],
   "source": [
    "save_vec = JLD2.load_object(\"optim_pars_rand_geom.jld2\")\n",
    "aucs = [save_struct.AUC for save_struct in save_vec]\n",
    "df = CSV.read(\"data/old_data/rnd_geom.csv\", DataFrame)\n",
    "select!(df, Not([:EPI]))\n",
    "df[!, :SCDC_new] = aucs\n",
    "select!(df, [:MF, :sib, :EPI_med, :SCDC_new])\n",
    "CSV.write(\"data/plot_data/rnd_geom.csv\", df)"
   ]
  },
  {
   "cell_type": "markdown",
   "id": "4ff63e8e-5c52-4967-900a-d01ce7ee753d",
   "metadata": {
    "tags": []
   },
   "source": [
    "## Watts-Strogatz"
   ]
  },
  {
   "cell_type": "code",
   "execution_count": 22,
   "id": "62c8dfaa-e33a-4338-8c17-b5cca1ad1ae2",
   "metadata": {
    "tags": []
   },
   "outputs": [
    {
     "data": {
      "text/plain": [
       "\"data/plot_data/WS.csv\""
      ]
     },
     "metadata": {},
     "output_type": "display_data"
    }
   ],
   "source": [
    "save_vec = JLD2.load_object(\"optim_pars_watts_strogatz.jld2\")\n",
    "aucs = [save_struct.AUC for save_struct in save_vec]\n",
    "a = aucs[findall(x->x==minimum(aucs),aucs)[1]]\n",
    "filter!(x->x!=a, aucs)\n",
    "auc_median = median(aucs)\n",
    "auc_err = semedian(aucs)\n",
    "df = CSV.read(\"data/old_data/WS.csv\", DataFrame)\n",
    "select!(df, Not([:EPI]))\n",
    "df[!, :SCDC_new] = aucs\n",
    "select!(df, [:MF, :sib, :EPI_med, :SCDC_new])\n",
    "CSV.write(\"data/plot_data/WS.csv\", df)"
   ]
  },
  {
   "cell_type": "markdown",
   "id": "f1a4fda5-f33d-4554-b656-47ce953f50d6",
   "metadata": {},
   "source": [
    "## OpenABM"
   ]
  },
  {
   "cell_type": "code",
   "execution_count": 30,
   "id": "3ef3f84d",
   "metadata": {},
   "outputs": [
    {
     "data": {
      "text/plain": [
       "\"data/plot_data/openABM.csv\""
      ]
     },
     "metadata": {},
     "output_type": "display_data"
    }
   ],
   "source": [
    "save_vec = JLD2.load_object(\"optim_pars_openABM.jld2\")\n",
    "aucs = [save_struct.AUC for save_struct in save_vec]\n",
    "df = CSV.read(\"data/old_data/openABM.csv\", DataFrame)\n",
    "select!(df, Not([:EPI]))\n",
    "df[!, :SCDC_new] = aucs\n",
    "rename!(df, :MF_d15 => :MF)\n",
    "select!(df, [:MF, :sib, :EPI_med, :SCDC_new])\n",
    "CSV.write(\"data/plot_data/openABM.csv\", df)"
   ]
  },
  {
   "cell_type": "markdown",
   "id": "4afa00e5-00f0-4ddb-bde5-7d3b6b7fd5a0",
   "metadata": {},
   "source": [
    "## Covasim"
   ]
  },
  {
   "cell_type": "code",
   "execution_count": 24,
   "id": "110780b2-37db-4383-81b2-f337eef069ad",
   "metadata": {
    "tags": []
   },
   "outputs": [
    {
     "data": {
      "text/plain": [
       "\"data/plot_data/covasim.csv\""
      ]
     },
     "metadata": {},
     "output_type": "display_data"
    }
   ],
   "source": [
    "save_vec = JLD2.load_object(\"optim_pars_covasim.jld2\")\n",
    "aucs = [save_struct.AUC for save_struct in save_vec]\n",
    "df = CSV.read(\"data/old_data/covasim.csv\", DataFrame)\n",
    "select!(df, Not([:EPI, :MF]))\n",
    "df[!, :SCDC_new] = aucs\n",
    "rename!(df, :MF_d15 => :MF)\n",
    "select!(df, [:MF, :sib, :EPI_med, :SCDC_new])\n",
    "CSV.write(\"data/plot_data/covasim.csv\", df)"
   ]
  },
  {
   "cell_type": "markdown",
   "id": "60f1aba9-4deb-4f9c-9d56-d5d67970ab5b",
   "metadata": {
    "tags": []
   },
   "source": [
    "### Plot random graphs"
   ]
  },
  {
   "cell_type": "code",
   "execution_count": 32,
   "id": "4a8cb57f-4e09-4ca4-805f-116e6bfff5e3",
   "metadata": {
    "collapsed": true,
    "jupyter": {
     "outputs_hidden": true,
     "source_hidden": true
    },
    "tags": []
   },
   "outputs": [
    {
     "name": "stdout",
     "output_type": "stream",
     "text": [
      "Proximity random graphs\n",
      "SMF: 0.8003843396337413 ± 0.007577670306129443\n",
      "BP: 0.8003843396337413 ± 0.003644439982458618\n",
      "SCDCt: 0.8003843396337413 ± 0.0046658492532561085\n",
      "SCDCe: 0.8003843396337413 ± 0.003909138631294046\n",
      "\n",
      "\n",
      "OpenABM contact network\n",
      "SMF: 0.8003843396337413 ± 0.0026446342322927617\n",
      "BP: 0.8003843396337413 ± 0.0034722104255103165\n",
      "SCDCt: 0.8003843396337413 ± 0.003568366288593721\n",
      "SCDCe: 0.8003843396337413 ± 0.003572007948613897\n",
      "\n",
      "\n",
      "Watts-Strogats random graphs\n",
      "SMF: 0.8003843396337413 ± 0.006225172418917031\n",
      "BP: 0.8003843396337413 ± 0.0068485962921422975\n",
      "SCDCt: 0.8003843396337413 ± 0.007319202822352979\n",
      "SCDCe: 0.8003843396337413 ± 0.006459586573516673\n",
      "\n",
      "\n",
      "Covasim contact network\n",
      "SMF: 0.8003843396337413 ± 0.0023397590595883146\n",
      "BP: 0.8003843396337413 ± 0.003107867690705715\n",
      "SCDCt: 0.8003843396337413 ± 0.0031267022310317387\n",
      "SCDCe: 0.8003843396337413 ± 0.0034322528489331497\n",
      "\n",
      "\n"
     ]
    }
   ],
   "source": [
    "fig, axs = subplots(2, 2, figsize=(6.7, 5), layout=\"constrained\") #(15,5) (6.7, 3)\n",
    "rcParams = PyDict(matplotlib[\"rcParams\"])\n",
    "rcParams[\"font.size\"] = 9 #9 #18\n",
    "\n",
    "labels = [\"SMF\", \"BP\", \"SCDCt\", \"SCDCe\"]\n",
    "colors = [\"steelblue\", \"forestgreen\", \"darkorange\", \"red\"]\n",
    "\n",
    "medianprops = Dict(\"color\"=>\"black\")\n",
    "flierprops = Dict(\"marker\"=>\"D\", \"markerfacecolor\"=>\"black\", \"markersize\"=>2)\n",
    "\n",
    "titles = [\"Proximity random graphs\", \"OpenABM contact network\", \"Watts-Strogats random graphs\", \"Covasim contact network\"]\n",
    "for (i, graph) in enumerate([\"rnd_geom\", \"openABM\", \"WS\", \"covasim\"])\n",
    "    df = CSV.read(\"data/plot_data/$(graph).csv\", DataFrame)\n",
    "    bplot = axs[i].boxplot(Matrix(df), labels=labels, patch_artist=true, medianprops=medianprops, flierprops=flierprops)\n",
    "    axs[i].set_title(titles[i])\n",
    "    axs[i].set_ylim((0.5,1.0))\n",
    "    \n",
    "    for (ip, patch) in enumerate(bplot[\"boxes\"])\n",
    "        patch.set_facecolor(colors[ip])\n",
    "    end\n",
    "    println(titles[i])\n",
    "    for im in 1:4\n",
    "        auc_m = mean(df[!,im])\n",
    "        auc_err = sem(df[!, im])\n",
    "        println(labels[im]*\": $(auc_median) ± $(auc_err)\")\n",
    "        \n",
    "        # Add error bar to the median value\n",
    "        axs[i].errorbar(im, auc_m, yerr=auc_err, fmt=\"o\", color=\"black\", capsize=5, markersize=0)\n",
    "    end\n",
    "    println(\"\\n\")\n",
    "end\n",
    "\n",
    "axs[3].set_yticklabels([])\n",
    "axs[4].set_yticklabels([])\n",
    "axs[1].set_ylabel(\"ROC AUC\")\n",
    "axs[2].set_ylabel(\"ROC AUC\")\n",
    "\n",
    "fig.savefig(\"comparison_randomgraphs.pdf\")"
   ]
  },
  {
   "cell_type": "code",
   "execution_count": 33,
   "id": "17ae5b41-1dd1-44c9-ba05-6bce0b6e5d5e",
   "metadata": {},
   "outputs": [
    {
     "name": "stdout",
     "output_type": "stream",
     "text": [
      "Proximity random network\n",
      "SMF: 0.8020425900962959 ± 0.007577670306129443\n",
      "BP: 0.9456152584613635 ± 0.003644439982458618\n",
      "SCDCt: 0.9361769777178632 ± 0.0046658492532561085\n",
      "SCDCe: 0.9338054662230658 ± 0.003909138631294046\n",
      "\n",
      "\n",
      "OpenABM contact network\n",
      "SMF: 0.6839970916043222 ± 0.0026446342322927617\n",
      "BP: 0.7492304270425126 ± 0.0034722104255103165\n",
      "SCDCt: 0.7490829297001395 ± 0.003568366288593721\n",
      "SCDCe: 0.7420816094964523 ± 0.003572007948613897\n",
      "\n",
      "\n",
      "Watts-Strogats random network\n",
      "SMF: 0.6456158264568821 ± 0.006225172418917031\n",
      "BP: 0.7989741859137217 ± 0.0068485962921422975\n",
      "SCDCt: 0.8000110319476766 ± 0.007319202822352979\n",
      "SCDCe: 0.8040196984205785 ± 0.006459586573516673\n",
      "\n",
      "\n",
      "Covasim contact network\n",
      "SMF: 0.5915569925277634 ± 0.0023397590595883146\n",
      "BP: 0.668311285522543 ± 0.003107867690705715\n",
      "SCDCt: 0.668035562180005 ± 0.0031267022310317387\n",
      "SCDCe: 0.6530061161221258 ± 0.0034322528489331497\n",
      "\n",
      "\n"
     ]
    }
   ],
   "source": [
    "fig, axs = subplots(2, 2, figsize=(7,4), tight_layout=true, sharey=true, sharex=true) #(15,5) (6.7, 3)\n",
    "rcParams = PyDict(matplotlib[\"rcParams\"])\n",
    "rcParams[\"font.size\"] = 9 #9 #18\n",
    "\n",
    "labels = [\"SMF\", \"BP\", \"SCDCt\", \"SCDCe\"]\n",
    "colors = [\"C0\", \"C1\", \"C2\", \"C3\"]\n",
    "\n",
    "titles = [\"Proximity random network\", \"OpenABM contact network\", \"Watts-Strogats random network\", \"Covasim contact network\"]\n",
    "for (i, graph) in enumerate([\"rnd_geom\", \"openABM\", \"WS\", \"covasim\"])\n",
    "    df = CSV.read(\"data/plot_data/$(graph).csv\", DataFrame)\n",
    "    \n",
    "    vplot = axs[i].violinplot(Matrix(df), showmeans=false, showextrema=false, showmedians=false)\n",
    "    axs[i].set_title(titles[i])\n",
    "    axs[i].set_ylim((0.495,1.0))\n",
    "    axs[i].set_xticks(1:4, labels=labels)\n",
    "    axs[i].grid(alpha=.2)\n",
    "    #axs[i].yaxis.grid(true)\n",
    "\n",
    "    for (ip, patch) in enumerate(vplot[\"bodies\"])\n",
    "        patch.set_facecolor(colors[ip])\n",
    "        patch.set_alpha(1.0)\n",
    "        patch.set_edgecolor(\"black\")\n",
    "        patch.set_linewidth(.7)\n",
    "    end\n",
    "\n",
    "    println(titles[i])\n",
    "    for im in 1:4\n",
    "        #auc_m = median(df[!,im])\n",
    "        #auc_err = semedian(df[!, im])\n",
    "        auc_m = mean(df[!,im])\n",
    "        auc_err = sem(df[!, im])\n",
    "        println(labels[im]*\": $(auc_m) ± $(auc_err)\")\n",
    "        \n",
    "        # Add error bar to the median value\n",
    "        axs[i].errorbar(im, auc_m, yerr=auc_err, fmt=\"o\", color=\"black\", capsize=2, markersize=1)\n",
    "    end\n",
    "    println(\"\\n\")\n",
    "end\n",
    "\n",
    "axs[1].set_yticks(0.5:0.1:1.0)\n",
    "axs[2].set_yticks(0.5:0.1:1.0)\n",
    "axs[1].set_ylabel(\"ROC AUC\")\n",
    "axs[2].set_ylabel(\"ROC AUC\")\n",
    "\n",
    "fig.savefig(\"comparison_randomgraphs.pdf\", format=\"pdf\", bbox_inches=\"tight\")"
   ]
  },
  {
   "cell_type": "markdown",
   "id": "906e620a-d364-4c0a-8579-788f511bbae0",
   "metadata": {},
   "source": [
    "## Office12"
   ]
  },
  {
   "cell_type": "code",
   "execution_count": 34,
   "id": "77f1fd98-5444-4bf0-818d-66a869988bc8",
   "metadata": {
    "tags": []
   },
   "outputs": [
    {
     "data": {
      "text/plain": [
       "\"data/plot_data/work_12.csv\""
      ]
     },
     "metadata": {},
     "output_type": "display_data"
    }
   ],
   "source": [
    "save_vec = JLD2.load_object(\"optim_pars_office12.jld2\")\n",
    "aucs = [save_struct.AUC for save_struct in save_vec]\n",
    "df = CSV.read(\"data/old_data/work_12.csv\", DataFrame)\n",
    "select!(df, Not([:EPI]))\n",
    "df[!, :SCDC_new] = aucs\n",
    "select!(df, [:MF, :sib, :EPI_med, :SCDC_new])\n",
    "CSV.write(\"data/plot_data/work_12.csv\", df)"
   ]
  },
  {
   "cell_type": "markdown",
   "id": "fac0cb27-5708-4996-8d76-7273b1886ca4",
   "metadata": {
    "tags": []
   },
   "source": [
    "## Office24"
   ]
  },
  {
   "cell_type": "code",
   "execution_count": 35,
   "id": "cfeafd42-2381-411c-a4d6-87fdc3b82b73",
   "metadata": {
    "tags": []
   },
   "outputs": [
    {
     "data": {
      "text/plain": [
       "\"data/plot_data/work_24.csv\""
      ]
     },
     "metadata": {},
     "output_type": "display_data"
    }
   ],
   "source": [
    "save_vec = JLD2.load_object(\"optim_pars_office24.jld2\")\n",
    "aucs = [save_struct.AUC for save_struct in save_vec]\n",
    "df = CSV.read(\"data/old_data/work_24.csv\", DataFrame)\n",
    "select!(df, Not([:EPI]))\n",
    "df[!, :SCDC_new] = aucs\n",
    "rename!(df, :MF_t6_d20 => :MF)\n",
    "select!(df, [:MF, :sib, :EPI_med, :SCDC_new])\n",
    "CSV.write(\"data/plot_data/work_24.csv\", df)"
   ]
  },
  {
   "cell_type": "markdown",
   "id": "af67b661-8f17-4c58-9055-727eeb409ae4",
   "metadata": {
    "tags": []
   },
   "source": [
    "## School18"
   ]
  },
  {
   "cell_type": "code",
   "execution_count": 36,
   "id": "4b8adb74-d6e2-4ca4-bd51-4e314f6651c4",
   "metadata": {
    "tags": []
   },
   "outputs": [
    {
     "data": {
      "text/plain": [
       "\"data/plot_data/thiers_18.csv\""
      ]
     },
     "metadata": {},
     "output_type": "display_data"
    }
   ],
   "source": [
    "save_vec = JLD2.load_object(\"optim_pars_school18.jld2\")\n",
    "aucs = [save_struct.AUC for save_struct in save_vec]\n",
    "df = CSV.read(\"data/old_data/thiers_18.csv\", DataFrame)\n",
    "select!(df, Not([:EPI, :sib]))\n",
    "df[!, :SCDC_new] = aucs\n",
    "rename!(df, :MF_tau3_d10 => :MF, :EPI_corr => :EPI_med, :sib_mean => :sib)\n",
    "select!(df, [:MF, :sib, :EPI_med, :SCDC_new])\n",
    "CSV.write(\"data/plot_data/thiers_18.csv\", df)"
   ]
  },
  {
   "cell_type": "markdown",
   "id": "d34e6c3a-8f73-4450-b623-b19b6767a9f9",
   "metadata": {
    "tags": []
   },
   "source": [
    "## School36"
   ]
  },
  {
   "cell_type": "code",
   "execution_count": 37,
   "id": "ac87ad55-b968-42a6-8545-4276a477c87c",
   "metadata": {
    "collapsed": true,
    "jupyter": {
     "outputs_hidden": true
    },
    "tags": []
   },
   "outputs": [
    {
     "data": {
      "text/plain": [
       "\"data/plot_data/thiers_36.csv\""
      ]
     },
     "metadata": {},
     "output_type": "display_data"
    }
   ],
   "source": [
    "save_vec = JLD2.load_object(\"optim_pars_school36.jld2\")\n",
    "aucs = [save_struct.AUC for save_struct in save_vec]\n",
    "df = CSV.read(\"data/old_data/thiers_36.csv\", DataFrame)\n",
    "select!(df, Not([:EPI, :sib]))\n",
    "df[!, :SCDC_new] = aucs\n",
    "rename!(df, :MF_tau6_d20 => :MF, :EPI_corr => :EPI_med, :sib_mean => :sib)\n",
    "select!(df, [:MF, :sib, :EPI_med, :SCDC_new])\n",
    "CSV.write(\"data/plot_data/thiers_36.csv\", df)"
   ]
  },
  {
   "cell_type": "markdown",
   "id": "1a042d11-166d-4095-a195-b97a4e49b3d5",
   "metadata": {
    "tags": []
   },
   "source": [
    "### Plot real graphs"
   ]
  },
  {
   "cell_type": "code",
   "execution_count": 38,
   "id": "ca4de208-bb5d-4fe7-b188-9b94381032b2",
   "metadata": {
    "collapsed": true,
    "jupyter": {
     "outputs_hidden": true,
     "source_hidden": true
    },
    "tags": []
   },
   "outputs": [
    {
     "name": "stdout",
     "output_type": "stream",
     "text": [
      "Office network, $T = 12, \\, \\tau_w = 24 h$\n",
      "SMF: 0.7355350079180849 ± 0.006303248837358309\n",
      "BP: 0.8204800470722431 ± 0.00672915631556611\n",
      "SCDCt: 0.8187732524415199 ± 0.006704528452087394\n",
      "SCDCe: 0.814034681573695 ± 0.007007266440711198\n",
      "\n",
      "\n",
      "School network, $T = 18, \\, \\tau_w = 6 h$\n",
      "SMF: 0.8279202951212076 ± 0.010763797184021285\n",
      "BP: 0.901711341598755 ± 0.006980081497587322\n",
      "SCDCt: 0.8964990335997961 ± 0.007756447125526761\n",
      "SCDCe: 0.8863399060518038 ± 0.0065847464279373295\n",
      "\n",
      "\n",
      "Office network, $T = 24,\\, \\tau_w = 12 h$\n",
      "SMF: 0.7277035481801719 ± 0.006035359381868324\n",
      "BP: 0.8116022747186223 ± 0.006339959649435916\n",
      "SCDCt: 0.8093147169036496 ± 0.006399023086130082\n",
      "SCDCe: 0.7949812205131355 ± 0.00646296574564875\n",
      "\n",
      "\n",
      "School network, $T = 36,\\, \\tau_w = 3 h$\n",
      "SMF: 0.8062410884807909 ± 0.009596809952361975\n",
      "BP: 0.8939305608433419 ± 0.007836304114503744\n",
      "SCDCt: 0.8836510698789986 ± 0.007947290427321091\n",
      "SCDCe: 0.8965046380536474 ± 0.006644332482701088\n",
      "\n",
      "\n"
     ]
    }
   ],
   "source": [
    "fig, axs = subplots(2, 2, figsize=(6.7, 5), layout=\"constrained\") #(15,5) (6.7, 3)\n",
    "rcParams = PyDict(matplotlib[\"rcParams\"])\n",
    "rcParams[\"font.size\"] = 9 #9 #18\n",
    "\n",
    "labels = [\"SMF\", \"BP\", \"SCDCt\", \"SCDCe\"]\n",
    "colors = [\"steelblue\", \"forestgreen\", \"darkorange\", \"red\"]\n",
    "\n",
    "medianprops = Dict(\"color\"=>\"black\")\n",
    "flierprops = Dict(\"marker\"=>\"D\", \"markerfacecolor\"=>\"black\", \"markersize\"=>2)\n",
    "\n",
    "titles = [\"Office network, \" * L\"$T = 12, \\, \\tau_w = 24 h$\", \"School network, \"* L\"$T = 18, \\, \\tau_w = 6 h$\", \"Office network, \"*L\"$T = 24,\\, \\tau_w = 12 h$\", \"School network, \"*L\"$T = 36,\\, \\tau_w = 3 h$\"]\n",
    "for (i, graph) in enumerate([\"work_12\", \"thiers_18\", \"work_24\", \"thiers_36\"])\n",
    "    df = CSV.read(\"data/plot_data/$(graph).csv\", DataFrame)\n",
    "    bplot = axs[i].boxplot(Matrix(df), labels=labels, patch_artist=true, medianprops=medianprops, flierprops=flierprops)\n",
    "    axs[i].set_title(titles[i])\n",
    "    axs[i].set_ylim((0.5,1.0))\n",
    "    \n",
    "    for (ip, patch) in enumerate(bplot[\"boxes\"])\n",
    "        patch.set_facecolor(colors[ip])\n",
    "    end\n",
    "    println(titles[i])\n",
    "    for imedian in 1:4\n",
    "        auc_median = median(df[!,imedian])\n",
    "        auc_err = semedian(df[!, imedian])\n",
    "        println(labels[imedian]*\": $(auc_median) ± $(auc_err)\")\n",
    "        \n",
    "        # Add error bar to the median value\n",
    "        axs[i].errorbar(imedian, auc_median, yerr=auc_err, fmt=\"o\", color=\"black\", capsize=5, markersize=0)\n",
    "    end\n",
    "    println(\"\\n\")\n",
    "end\n",
    "\n",
    "axs[3].set_yticklabels([])\n",
    "axs[4].set_yticklabels([])\n",
    "axs[1].set_ylabel(\"ROC AUC\")\n",
    "axs[2].set_ylabel(\"ROC AUC\")\n",
    "\n",
    "fig.savefig(\"comparison_realgraphs_boxplot.pdf\")"
   ]
  },
  {
   "cell_type": "code",
   "execution_count": 39,
   "id": "38006671-1341-478a-bf54-d730cc29d153",
   "metadata": {},
   "outputs": [
    {
     "name": "stdout",
     "output_type": "stream",
     "text": [
      "Office network, $T = 12, \\, \\tau_w = 24 h$\n",
      "SMF: 0.7282098987383446 ± 0.005029321660702392\n",
      "BP: 0.8128381194572255 ± 0.005369150495145703\n",
      "SCDCt: 0.8116008988552204 ± 0.005349500081454874\n",
      "SCDCe: 0.8042447676687421 ± 0.005591052773247585\n",
      "\n",
      "\n",
      "School network, $T = 18, \\, \\tau_w = 6 h$\n",
      "SMF: 0.8102923120836213 ± 0.00858836446502935\n",
      "BP: 0.8876160881468843 ± 0.005569362082172921\n",
      "SCDCt: 0.8782275931319019 ± 0.006188819217686716\n",
      "SCDCe: 0.8806784654887043 ± 0.005253926775662115\n",
      "\n",
      "\n",
      "Office network, $T = 24,\\, \\tau_w = 12 h$\n",
      "SMF: 0.7238857203643869 ± 0.004815574389107415\n",
      "BP: 0.8073477190237084 ± 0.005058612981278158\n",
      "SCDCt: 0.8060171870310912 ± 0.005105739317106903\n",
      "SCDCe: 0.793210481602012 ± 0.005156758753409998\n",
      "\n",
      "\n",
      "School network, $T = 36,\\, \\tau_w = 3 h$\n",
      "SMF: 0.8001331484401614 ± 0.007657232867120382\n",
      "BP: 0.8795891065525672 ± 0.006252536594992216\n",
      "SCDCt: 0.8742430042656479 ± 0.0063410918593481925\n",
      "SCDCe: 0.8874791099526996 ± 0.00530147010508345\n",
      "\n",
      "\n"
     ]
    }
   ],
   "source": [
    "fig, axs = subplots(2, 2, figsize=(7,4), tight_layout=true, sharey=true, sharex=true)#(15,5) (6.7, 3)\n",
    "rcParams = PyDict(matplotlib[\"rcParams\"])\n",
    "rcParams[\"font.size\"] = 9 #9 #18\n",
    "\n",
    "labels = [\"SMF\", \"BP\", \"SCDCt\", \"SCDCe\"]\n",
    "colors = [\"C0\", \"C1\", \"C2\", \"C3\"]\n",
    "\n",
    "medianprops = Dict(\"color\"=>\"black\")\n",
    "flierprops = Dict(\"marker\"=>\"D\", \"markerfacecolor\"=>\"black\", \"markersize\"=>2)\n",
    "\n",
    "titles = [\"Office network, \" * L\"$T = 12, \\, \\tau_w = 24 h$\", \"School network, \"* L\"$T = 18, \\, \\tau_w = 6 h$\", \"Office network, \"*L\"$T = 24,\\, \\tau_w = 12 h$\", \"School network, \"*L\"$T = 36,\\, \\tau_w = 3 h$\"]\n",
    "for (i, graph) in enumerate([\"work_12\", \"thiers_18\", \"work_24\", \"thiers_36\"])\n",
    "    df = CSV.read(\"data/plot_data/$(graph).csv\", DataFrame)\n",
    "    \n",
    "    vplot = axs[i].violinplot(Matrix(df), showmeans=false, showextrema=false, showmedians=false)\n",
    "    axs[i].set_title(titles[i])\n",
    "    axs[i].set_ylim((0.495,1.0))\n",
    "    axs[i].set_xticks(1:4, labels=labels)\n",
    "    axs[i].grid(alpha=.2)\n",
    "    #axs[i].yaxis.grid(true)\n",
    "\n",
    "    for (ip, patch) in enumerate(vplot[\"bodies\"])\n",
    "        patch.set_facecolor(colors[ip])\n",
    "        patch.set_alpha(1.0)\n",
    "        patch.set_edgecolor(\"black\")\n",
    "        patch.set_linewidth(.7)\n",
    "    end\n",
    "\n",
    "    println(titles[i])\n",
    "    for im in 1:4\n",
    "        #auc_m = median(df[!,im])\n",
    "        #auc_err = semedian(df[!, im])\n",
    "        auc_m = mean(df[!,im])\n",
    "        auc_err = sem(df[!, im])\n",
    "        println(labels[im]*\": $(auc_m) ± $(auc_err)\")\n",
    "        \n",
    "        # Add error bar to the median value\n",
    "        axs[i].errorbar(im, auc_m, yerr=auc_err, fmt=\"o\", color=\"black\", capsize=2, markersize=1)\n",
    "    end\n",
    "    println(\"\\n\")\n",
    "end\n",
    "\n",
    "\n",
    "axs[1].set_yticks(0.5:0.1:1.0)\n",
    "axs[2].set_yticks(0.5:0.1:1.0)\n",
    "axs[1].set_ylabel(\"ROC AUC\")\n",
    "axs[2].set_ylabel(\"ROC AUC\")\n",
    "\n",
    "fig.savefig(\"comparison_realgraphs.pdf\", format=\"pdf\", bbox_inches=\"tight\")"
   ]
  },
  {
   "cell_type": "code",
   "execution_count": 40,
   "id": "cb13a9da-4c15-4801-8807-dbd9e72bce6a",
   "metadata": {},
   "outputs": [
    {
     "name": "stdout",
     "output_type": "stream",
     "text": [
      "Proximity\n",
      "SMF: 0.8020425900962959 ± 0.007577670306129443\n",
      "BP: 0.9456152584613635 ± 0.003644439982458618\n",
      "SCDC: 0.9338054662230658 ± 0.003909138631294046\n",
      "\n",
      "\n",
      "Office12\n",
      "SMF: 0.7282098987383446 ± 0.005029321660702392\n",
      "BP: 0.8128381194572255 ± 0.005369150495145703\n",
      "SCDC: 0.8042447676687421 ± 0.005591052773247585\n",
      "\n",
      "\n",
      "Watts-Strogatz\n",
      "SMF: 0.6456158264568821 ± 0.006225172418917031\n",
      "BP: 0.7989741859137217 ± 0.0068485962921422975\n",
      "SCDC: 0.8040196984205785 ± 0.006459586573516673\n",
      "\n",
      "\n",
      "Office24\n",
      "SMF: 0.7238857203643869 ± 0.004815574389107415\n",
      "BP: 0.8073477190237084 ± 0.005058612981278158\n",
      "SCDC: 0.793210481602012 ± 0.005156758753409998\n",
      "\n",
      "\n",
      "OpenABM\n",
      "SMF: 0.6839970916043222 ± 0.0026446342322927617\n",
      "BP: 0.7492304270425126 ± 0.0034722104255103165\n",
      "SCDC: 0.7420816094964523 ± 0.003572007948613897\n",
      "\n",
      "\n",
      "School18\n",
      "SMF: 0.8102923120836213 ± 0.00858836446502935\n",
      "BP: 0.8876160881468843 ± 0.005569362082172921\n",
      "SCDC: 0.8806784654887043 ± 0.005253926775662115\n",
      "\n",
      "\n",
      "Covasim\n",
      "SMF: 0.5915569925277634 ± 0.0023397590595883146\n",
      "BP: 0.668311285522543 ± 0.003107867690705715\n",
      "SCDC: 0.6530061161221258 ± 0.0034322528489331497\n",
      "\n",
      "\n",
      "School36\n",
      "SMF: 0.8001331484401614 ± 0.007657232867120382\n",
      "BP: 0.8795891065525672 ± 0.006252536594992216\n",
      "SCDC: 0.8874791099526996 ± 0.00530147010508345\n",
      "\n",
      "\n"
     ]
    }
   ],
   "source": [
    "fig, axs = subplots(2, 4, figsize=(7,4), tight_layout=true, sharey=true, sharex=true) #(15,5) (6.7, 3)\n",
    "rcParams = PyDict(matplotlib[\"rcParams\"])\n",
    "rcParams[\"font.size\"] = 9 #9 #18\n",
    "\n",
    "labels = [\"SMF\", \"BP\", \"SCDC\"]\n",
    "colors = [\"C0\", \"C1\", \"C2\"]\n",
    "\n",
    "titles = [\"Proximity\", \"Office12\", \"Watts-Strogatz\", \"Office24\", \"OpenABM\", \"School18\", \"Covasim\", \"School36\"]\n",
    "for (i, graph) in enumerate([\"rnd_geom\", \"work_12\", \"WS\", \"work_24\", \"openABM\", \"thiers_18\", \"covasim\", \"thiers_36\"])\n",
    "    df = CSV.read(\"data/plot_data/$(graph).csv\", DataFrame)\n",
    "    select!(df, [:MF, :sib, :SCDC_new])\n",
    "    \n",
    "    vplot = axs[i].violinplot(Matrix(df), showmeans=false, showextrema=false, showmedians=false)\n",
    "    axs[i].set_title(titles[i])\n",
    "    axs[i].set_ylim((0.495,1.0))\n",
    "    axs[i].set_xticks(1:length(labels), labels=labels)\n",
    "    axs[i].grid(alpha=.2)\n",
    "    #axs[i].yaxis.grid(true)\n",
    "\n",
    "    for (ip, patch) in enumerate(vplot[\"bodies\"])\n",
    "        patch.set_facecolor(colors[ip])\n",
    "        patch.set_alpha(1.0)\n",
    "        patch.set_edgecolor(\"black\")\n",
    "        patch.set_linewidth(.7)\n",
    "    end\n",
    "\n",
    "    println(titles[i])\n",
    "    for im in 1:length(labels)\n",
    "        #auc_m = median(df[!,im])\n",
    "        #auc_err = semedian(df[!, im])\n",
    "        auc_m = mean(df[!,im])\n",
    "        auc_err = sem(df[!, im])\n",
    "        println(labels[im]*\": $(auc_m) ± $(auc_err)\")\n",
    "        \n",
    "        # Add error bar to the median value\n",
    "        axs[i].errorbar(im, auc_m, yerr=auc_err, fmt=\"o\", color=\"black\", capsize=2, markersize=1)\n",
    "    end\n",
    "    println(\"\\n\")\n",
    "end\n",
    "\n",
    "axs[1].set_yticks(0.5:0.1:1.0)\n",
    "axs[2].set_yticks(0.5:0.1:1.0)\n",
    "axs[1].set_ylabel(\"ROC AUC\")\n",
    "axs[2].set_ylabel(\"ROC AUC\")\n",
    "\n",
    "fig.savefig(\"comparison.pdf\", format=\"pdf\", bbox_inches=\"tight\")"
   ]
  }
 ],
 "metadata": {
  "kernelspec": {
   "display_name": "Julia 1.10.5",
   "language": "julia",
   "name": "julia-1.10"
  },
  "language_info": {
   "file_extension": ".jl",
   "mimetype": "application/julia",
   "name": "julia",
   "version": "1.10.5"
  }
 },
 "nbformat": 4,
 "nbformat_minor": 5
}
