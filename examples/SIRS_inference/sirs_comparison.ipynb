{
 "cells": [
  {
   "cell_type": "code",
   "execution_count": 6,
   "metadata": {
    "ExecuteTime": {
     "end_time": "2023-10-24T11:41:23.454000+02:00",
     "start_time": "2023-10-24T09:41:23.455Z"
    }
   },
   "outputs": [
    {
     "name": "stdout",
     "output_type": "stream",
     "text": [
      "\u001b[32m\u001b[1mStatus\u001b[22m\u001b[39m `~/Desktop/julia_codes/SmallCouplingDynamicCavity.jl/examples/SIRS_inference/Project.toml`\n",
      "  \u001b[90m[86223c79] \u001b[39mGraphs v1.12.0\n",
      "  \u001b[90m[8a731c18] \u001b[39mIndexedGraphs v0.6.1\n",
      "  \u001b[90m[033835bb] \u001b[39mJLD2 v0.5.11\n",
      "  \u001b[90m[b964fa9f] \u001b[39mLaTeXStrings v1.4.0\n",
      "  \u001b[90m[3d39929c] \u001b[39mMatrixProductBP v0.9.0\n",
      "  \u001b[90m[92933f4c] \u001b[39mProgressMeter v1.10.2\n",
      "  \u001b[90m[438e738f] \u001b[39mPyCall v1.96.4\n",
      "  \u001b[90m[d330b81b] \u001b[39mPyPlot v2.11.5\n",
      "  \u001b[90m[1607259e] \u001b[39mSmallCouplingDynamicCavity v4.0.2 `https://github.com/Mattiatarabolo/SmallCouplingDynamicCavity.jl#main`\n",
      "  \u001b[90m[2913bbd2] \u001b[39mStatsBase v0.34.4\n",
      "  \u001b[90m[89893e69] \u001b[39mTensorTrains v0.12.1\n",
      "  \u001b[90m[37e2e46d] \u001b[39mLinearAlgebra\n",
      "  \u001b[90m[9a3f8284] \u001b[39mRandom\n",
      "  \u001b[90m[10745b16] \u001b[39mStatistics v1.10.0\n"
     ]
    },
    {
     "name": "stderr",
     "output_type": "stream",
     "text": [
      "\u001b[32m\u001b[1m  Activating\u001b[22m\u001b[39m project at `~/Desktop/julia_codes/SmallCouplingDynamicCavity.jl/examples/SIRS_inference`\n"
     ]
    }
   ],
   "source": [
    "using Pkg; Pkg.activate(\".\")\n",
    "#pkg\"add MatrixProductBP, Graphs, IndexedGraphs, Statistics, Random, StatsBase, ProgressMeter, JLD2, TensorTrains, LinearAlgebra, LaTeXStrings, PyPlot, PyCall\"\n",
    "#pkg\"add https://github.com/Mattiatarabolo/SmallCouplingDynamicCavity.jl\"\n",
    "Pkg.status()"
   ]
  },
  {
   "cell_type": "code",
   "execution_count": 8,
   "metadata": {},
   "outputs": [],
   "source": [
    "import MatrixProductBP as MPBP\n",
    "import MatrixProductBP.Models as MPBPm\n",
    "import SmallCouplingDynamicCavity as SCDC\n",
    "using Graphs, IndexedGraphs, Statistics, Random, StatsBase\n",
    "using ProgressMeter; ProgressMeter.ijulia_behavior(:clear)\n",
    "using JLD2\n",
    "using TensorTrains: summary_compact;\n",
    "using LinearAlgebra\n",
    "using LaTeXStrings\n",
    "import PyPlot as plt\n",
    "using PyCall"
   ]
  },
  {
   "cell_type": "code",
   "execution_count": 9,
   "metadata": {},
   "outputs": [
    {
     "data": {
      "text/plain": [
       "to_rgba (generic function with 1 method)"
      ]
     },
     "metadata": {},
     "output_type": "display_data"
    }
   ],
   "source": [
    "# Define the saving structure, in which the results will be saved\n",
    "struct SaveStruct\n",
    "    s::Int\n",
    "    ε_autoinf::Float64\n",
    "    maxiter::Union{Int,Array{Int}}\n",
    "    damp::Union{Float64,Array{Float64}}\n",
    "    μ_cutoff::Float64\n",
    "    fpn::Float64\n",
    "    n_iter_nc::Int\n",
    "    damp_nc::Float64\n",
    "    fMAP_true::Float64\n",
    "\n",
    "    SaveStruct(s) = new(s, 0.0, 0, 0.0, 0.0, 0.0, 0, 0.0, 0.0)\n",
    "    SaveStruct(s, ε_autoinf, maxiter, damp, μ_cutoff, fpn, n_iter_nc, damp_nc, fMAP_true) = new(s, ε_autoinf, maxiter, damp, μ_cutoff, fpn, n_iter_nc, damp_nc, fMAP_true)\n",
    "end\n",
    "\n",
    "to_rgba(col, alpha) = plt.matplotlib.colors.to_rgba(col, alpha)"
   ]
  },
  {
   "cell_type": "code",
   "execution_count": 12,
   "metadata": {},
   "outputs": [
    {
     "data": {
      "text/plain": [
       "1:4"
      ]
     },
     "metadata": {},
     "output_type": "display_data"
    }
   ],
   "source": [
    "T = 20\n",
    "N = 100\n",
    "c = 2.5\n",
    "\n",
    "ρ = 0.15\n",
    "σ = 0.15\n",
    "n_sr = 2\n",
    "γ = n_sr/N\n",
    "\n",
    "of = 0.75 #observation fractions\n",
    "n_obs = floor(Int, N * of)\n",
    "obs_time = 10\n",
    "\n",
    "λs = 0.1:0.05:0.6\n",
    "ks = 1:4"
   ]
  },
  {
   "cell_type": "code",
   "execution_count": 14,
   "metadata": {},
   "outputs": [],
   "source": [
    "res_mpbp, seeds = load(\"points_seeds.jld2\", \"points\", \"seeds\")\n",
    "res_scdc = load_object(\"res_scdc.jld2\")\n",
    "\n",
    "nseeds_mpbp = 50\n",
    "nseeds_scdc = 50\n",
    "\n",
    "# Function to plot MPBP results\n",
    "function plotres_mpbp!(ax, points, col, lab, marker)\n",
    "    p = vec(points[1])\n",
    "    error = vec(points[2])\n",
    "    lower = p .- error\n",
    "    upper = p .+ error\n",
    "    \n",
    "    # Plot with error bars\n",
    "    ax.plot(λs, p, label=lab, marker=marker, color=to_rgba(col, .5), linestyle=\"--\", linewidth=1, markerfacecolor=to_rgba(col, 1), markeredgecolor=to_rgba(\"dimgray\", 1), markeredgewidth=.5, markersize=5)\n",
    "    \n",
    "    # Add ribbon\n",
    "    ax.fill_between(λs, lower, upper, facecolor=to_rgba(col, .2), edgecolor=to_rgba(col, 0), label=\"\")\n",
    "end\n",
    "\n",
    "# Function to plot SCDC results\n",
    "function plotres_scdc!(ax, points, col, lab)\n",
    "    p = vec(points[1])\n",
    "    error = vec(points[2])\n",
    "    lower = p .- error\n",
    "    upper = p .+ error\n",
    "    \n",
    "    # Plot with error bars\n",
    "    ax.plot(λs, p, label=lab, marker=\"*\", color=to_rgba(col, .5), linestyle=\"--\", linewidth=1, markerfacecolor=to_rgba(col, 1), markeredgecolor=to_rgba(\"dimgray\", 1), markeredgewidth=.5, markersize=5)\n",
    "     \n",
    "    # Add ribbon\n",
    "    ax.fill_between(λs, lower, upper, facecolor=to_rgba(col, .2), edgecolor=to_rgba(col, 0))\n",
    "end\n",
    "\n",
    "# Initialize plot\n",
    "fig, ax = plt.subplots(figsize=(3.4, 3))\n",
    "rcParams = PyDict(plt.matplotlib[\"rcParams\"])\n",
    "rcParams[\"font.size\"] = 8  #9 18\n",
    "\n",
    "ax.set_xlabel(L\"\\lambda\")\n",
    "ax.set_ylabel(\"Fraction of correct MAP predictions\")\n",
    "\n",
    "# Plot MPBP results\n",
    "markers = [\"o\", \"s\", \"h\", \"d\"]  # circle, square, hexagon, diamond\n",
    "foreach(k -> plotres_mpbp!(ax, res_mpbp[k], \"C$(k)\", \"MPBP, \"*L\"M=\"*\"$k\", markers[k]), ks)\n",
    "\n",
    "# Plot SCDC results\n",
    "#plotres_scdc!(ax, res_scdc, \"blue\", \"SCDC\")\n",
    "\n",
    "# Set plot limits and show legend\n",
    "ax.set_ylim(0.5, 1.0)\n",
    "ax.set_yticks(0.5:0.1:1.0)\n",
    "ax.grid(alpha=.2)\n",
    "ax.legend()\n",
    "#plt.show()\n",
    "fig.savefig(\"MAP_comparison_ribbon.pdf\", bbox_inches=\"tight\")"
   ]
  },
  {
   "cell_type": "code",
   "execution_count": 15,
   "metadata": {
    "tags": []
   },
   "outputs": [],
   "source": []
  },
  {
   "cell_type": "code",
   "execution_count": 16,
   "metadata": {},
   "outputs": [
    {
     "data": {
      "image/png": "[encoded data removed]",
      "text/plain": [
       "PyPlot.Figure(PyObject <Figure size 340x230 with 1 Axes>)"
      ]
     },
     "metadata": {},
     "output_type": "display_data"
    }
   ],
   "source": [
    "nseeds_mpbp = 50\n",
    "nseeds_scdc = 50\n",
    "\n",
    "# Function to plot MPBP results\n",
    "function plotres_mpbp!(ax, points, col, lab, marker)\n",
    "    p = vec(points[1])\n",
    "    p2 = vec(points[2])\n",
    "    error = sqrt.((p2 .- p.^2)/nseeds_mpbp)\n",
    "    lower = p .- error\n",
    "    upper = p .+ error\n",
    "    \n",
    "    # Plot with error bars\n",
    "    ax.plot(λs, p, label=lab, marker=marker, color=to_rgba(col, .5), linestyle=\"--\", linewidth=1, markerfacecolor=to_rgba(col, 1), markeredgecolor=to_rgba(\"dimgray\", 1), markeredgewidth=.5, markersize=5)\n",
    "    \n",
    "    # Add ribbon\n",
    "    ax.fill_between(λs, lower, upper, facecolor=to_rgba(col, .2), edgecolor=to_rgba(col, 0), label=\"\")\n",
    "end\n",
    "\n",
    "# Function to plot SCDC results\n",
    "function plotres_scdc!(ax, points, col, lab)\n",
    "    p = vec(points[1])\n",
    "    error = vec(points[2])\n",
    "    lower = p .- error\n",
    "    upper = p .+ error\n",
    "    \n",
    "    # Plot with error bars\n",
    "    ax.plot(λs, p, label=lab, marker=\"*\", color=to_rgba(col, .5), linestyle=\"--\", linewidth=1, markerfacecolor=to_rgba(col, 1), markeredgecolor=to_rgba(\"dimgray\", 1), markeredgewidth=.5, markersize=5)\n",
    "     \n",
    "    # Add ribbon\n",
    "    ax.fill_between(λs, lower, upper, facecolor=to_rgba(col, .2), edgecolor=to_rgba(col, 0))\n",
    "end\n",
    "\n",
    "# Initialize plot\n",
    "fig, ax = plt.subplots(figsize=(3.4, 2.3))\n",
    "rcParams = PyDict(plt.matplotlib[\"rcParams\"])\n",
    "rcParams[\"font.size\"] = 8  #9 18\n",
    "\n",
    "ax.set_xlabel(L\"\\lambda\")\n",
    "ax.set_ylabel(\"Fraction of correct MAP predictions\")\n",
    "\n",
    "# Plot MPBP results\n",
    "markers = [\"o\", \"s\", \"h\", \"d\"]  # circle, square, hexagon, diamond\n",
    "foreach(k -> plotres_mpbp!(ax, res_mpbp[k], \"C$(k)\", \"MPBP, \"*L\"M=\"*\"$k\", markers[k]), ks)\n",
    "\n",
    "# Plot SCDC results\n",
    "plotres_scdc!(ax, res_scdc, \"blue\", \"SCDC\")\n",
    "\n",
    "# Set plot limits and show legend\n",
    "ax.set_ylim(0.58, 1.0)\n",
    "ax.set_yticks(0.6:0.1:1.0)\n",
    "ax.grid(alpha=.2)\n",
    "ax.legend()\n",
    "#plt.show()\n",
    "fig.savefig(\"MAP_comparison_ribbon.pdf\", bbox_inches=\"tight\")"
   ]
  }
 ],
 "metadata": {
  "@webio": {
   "lastCommId": null,
   "lastKernelId": null
  },
  "kernelspec": {
   "display_name": "Julia 1.10.5",
   "language": "julia",
   "name": "julia-1.10"
  },
  "language_info": {
   "file_extension": ".jl",
   "mimetype": "application/julia",
   "name": "julia",
   "version": "1.10.5"
  },
  "latex_envs": {
   "LaTeX_envs_menu_present": true,
   "autoclose": true,
   "autocomplete": true,
   "bibliofile": "biblio.bib",
   "cite_by": "apalike",
   "current_citInitial": 1,
   "eqLabelWithNumbers": true,
   "eqNumInitial": 1,
   "hotkeys": {
    "equation": "Ctrl-E",
    "itemize": "Ctrl-I"
   },
   "labels_anchors": false,
   "latex_user_defs": false,
   "report_style_numbering": false,
   "user_envs_cfg": false
  },
  "notify_time": "30",
  "varInspector": {
   "cols": {
    "lenName": 16,
    "lenType": 16,
    "lenVar": 40
   },
   "kernels_config": {
    "python": {
     "delete_cmd_postfix": "",
     "delete_cmd_prefix": "del ",
     "library": "var_list.py",
     "varRefreshCmd": "print(var_dic_list())"
    },
    "r": {
     "delete_cmd_postfix": ") ",
     "delete_cmd_prefix": "rm(",
     "library": "var_list.r",
     "varRefreshCmd": "cat(var_dic_list()) "
    }
   },
   "types_to_exclude": [
    "module",
    "function",
    "builtin_function_or_method",
    "instance",
    "_Feature"
   ],
   "window_display": false
  }
 },
 "nbformat": 4,
 "nbformat_minor": 4
}
